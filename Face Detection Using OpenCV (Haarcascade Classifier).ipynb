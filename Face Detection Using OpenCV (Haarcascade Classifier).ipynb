{
 "cells": [
  {
   "cell_type": "code",
   "execution_count": 1,
   "id": "6591e1e1",
   "metadata": {},
   "outputs": [
    {
     "name": "stdout",
     "output_type": "stream",
     "text": [
      "Defaulting to user installation because normal site-packages is not writeable\n",
      "Requirement already satisfied: opencv-python in c:\\users\\ssgda\\appdata\\roaming\\python\\python311\\site-packages (4.11.0.86)\n",
      "Requirement already satisfied: numpy>=1.21.2 in c:\\programdata\\anaconda3\\lib\\site-packages (from opencv-python) (1.24.3)\n",
      "Note: you may need to restart the kernel to use updated packages.\n"
     ]
    }
   ],
   "source": [
    "pip install opencv-python\n"
   ]
  },
  {
   "cell_type": "code",
   "execution_count": 2,
   "id": "7d6fe55d",
   "metadata": {},
   "outputs": [
    {
     "name": "stdout",
     "output_type": "stream",
     "text": [
      "Defaulting to user installation because normal site-packages is not writeable\n",
      "Collecting face-recognition\n",
      "  Obtaining dependency information for face-recognition from https://files.pythonhosted.org/packages/1e/95/f6c9330f54ab07bfa032bf3715c12455a381083125d8880c43cbe76bb3d0/face_recognition-1.3.0-py2.py3-none-any.whl.metadata\n",
      "  Using cached face_recognition-1.3.0-py2.py3-none-any.whl.metadata (21 kB)\n",
      "Collecting face-recognition-models>=0.3.0 (from face-recognition)\n",
      "  Using cached face_recognition_models-0.3.0-py2.py3-none-any.whl\n",
      "Requirement already satisfied: Click>=6.0 in c:\\programdata\\anaconda3\\lib\\site-packages (from face-recognition) (8.0.4)\n",
      "Collecting dlib>=19.7 (from face-recognition)\n",
      "  Using cached dlib-19.24.6.tar.gz (3.4 MB)\n",
      "  Preparing metadata (setup.py): started\n",
      "  Preparing metadata (setup.py): finished with status 'done'\n",
      "Requirement already satisfied: numpy in c:\\programdata\\anaconda3\\lib\\site-packages (from face-recognition) (1.24.3)\n",
      "Requirement already satisfied: Pillow in c:\\programdata\\anaconda3\\lib\\site-packages (from face-recognition) (10.2.0)\n",
      "Requirement already satisfied: colorama in c:\\programdata\\anaconda3\\lib\\site-packages (from Click>=6.0->face-recognition) (0.4.6)\n",
      "Using cached face_recognition-1.3.0-py2.py3-none-any.whl (15 kB)\n",
      "Building wheels for collected packages: dlib\n",
      "  Building wheel for dlib (setup.py): started\n",
      "  Building wheel for dlib (setup.py): finished with status 'error'\n",
      "  Running setup.py clean for dlib\n",
      "Failed to build dlib\n",
      "Note: you may need to restart the kernel to use updated packages.\n"
     ]
    },
    {
     "name": "stderr",
     "output_type": "stream",
     "text": [
      "  error: subprocess-exited-with-error\n",
      "  \n",
      "  python setup.py bdist_wheel did not run successfully.\n",
      "  exit code: 1\n",
      "  \n",
      "  [41 lines of output]\n",
      "  running bdist_wheel\n",
      "  running build\n",
      "  running build_ext\n",
      "  \n",
      "  ================================================================================\n",
      "  ================================================================================\n",
      "  ================================================================================\n",
      "  \n",
      "                     CMake is not installed on your system!\n",
      "  \n",
      "      Or it is possible some broken copy of cmake is installed on your system.\n",
      "      It is unfortunately very common for python package managers to include\n",
      "      broken copies of cmake.  So if the error above this refers to some file\n",
      "      path to a cmake file inside a python or anaconda or miniconda path then you\n",
      "      should delete that broken copy of cmake from your computer.\n",
      "  \n",
      "      Instead, please get an official copy of cmake from one of these known good\n",
      "      sources of an official cmake:\n",
      "          - cmake.org (this is how windows users should get cmake)\n",
      "          - apt install cmake (for Ubuntu or Debian based systems)\n",
      "          - yum install cmake (for Redhat or CenOS based systems)\n",
      "  \n",
      "      On a linux machine you can run `which cmake` to see what cmake you are\n",
      "      actually using.  If it tells you it's some cmake from any kind of python\n",
      "      packager delete it and install an official cmake.\n",
      "  \n",
      "      More generally, cmake is not installed if when you open a terminal window\n",
      "      and type\n",
      "         cmake --version\n",
      "      you get an error.  So you can use that as a very basic test to see if you\n",
      "      have cmake installed.  That is, if cmake --version doesn't run from the\n",
      "      same terminal window from which you are reading this error message, then\n",
      "      you have not installed cmake.  Windows users should take note that they\n",
      "      need to tell the cmake installer to add cmake to their PATH.  Since you\n",
      "      can't run commands that are not in your PATH.  This is how the PATH works\n",
      "      on Linux as well, but failing to add cmake to the PATH is a particularly\n",
      "      common problem on windows and rarely a problem on Linux.\n",
      "  \n",
      "  ================================================================================\n",
      "  ================================================================================\n",
      "  ================================================================================\n",
      "  [end of output]\n",
      "  \n",
      "  note: This error originates from a subprocess, and is likely not a problem with pip.\n",
      "  ERROR: Failed building wheel for dlib\n",
      "ERROR: Could not build wheels for dlib, which is required to install pyproject.toml-based projects\n"
     ]
    }
   ],
   "source": [
    "pip install face-recognition\n"
   ]
  },
  {
   "cell_type": "code",
   "execution_count": 4,
   "id": "458c218d",
   "metadata": {},
   "outputs": [],
   "source": [
    "import cv2\n",
    "\n",
    "# Load the pre-trained Haarcascade model\n",
    "face_cascade = cv2.CascadeClassifier(cv2.data.haarcascades + 'haarcascade_frontalface_default.xml')\n",
    "\n",
    "# Read the image\n",
    "image = cv2.imread(r\"C:\\Users\\ssgda\\OneDrive\\Desktop\\ACE\\my pic.jpg\")\n",
    "# image = cv2.imread(\"C:\\Users\\ssgda\\OneDrive\\Desktop\\ACE\\my pic.jpg\")  # Replace with your image file\n",
    "\n",
    "# Convert the image to grayscale\n",
    "gray = cv2.cvtColor(image, cv2.COLOR_BGR2GRAY)\n",
    "\n",
    "# Detect faces in the image\n",
    "faces = face_cascade.detectMultiScale(gray, scaleFactor=1.1, minNeighbors=5, minSize=(30, 30))\n",
    "\n",
    "# Draw rectangles around detected faces\n",
    "for (x, y, w, h) in faces:\n",
    "    cv2.rectangle(image, (x, y), (x + w, y + h), (0, 255, 0), 2)\n",
    "\n",
    "# Display the output\n",
    "cv2.imshow(\"Face Detection\", image)\n",
    "cv2.waitKey(0)\n",
    "cv2.destroyAllWindows()\n"
   ]
  },
  {
   "cell_type": "code",
   "execution_count": null,
   "id": "39c43566",
   "metadata": {},
   "outputs": [],
   "source": [
    "import cv2\n",
    "\n",
    "# Load Haarcascade classifier\n",
    "face_cascade = cv2.CascadeClassifier(cv2.data.haarcascades + 'haarcascade_frontalface_default.xml')\n",
    "\n",
    "# Open webcam\n",
    "cap = cv2.VideoCapture(0)\n",
    "\n",
    "while True:\n",
    "    # Read frames from webcam\n",
    "    ret, frame = cap.read()\n",
    "    \n",
    "    # Convert to grayscale\n",
    "    gray = cv2.cvtColor(frame, cv2.COLOR_BGR2GRAY)\n",
    "    \n",
    "    # Detect faces\n",
    "    faces = face_cascade.detectMultiScale(gray, scaleFactor=1.1, minNeighbors=5, minSize=(30, 30))\n",
    "    \n",
    "    # Draw rectangles around detected faces\n",
    "    for (x, y, w, h) in faces:\n",
    "        cv2.rectangle(frame, (x, y), (x + w, y + h), (0, 255, 0), 2)\n",
    "    \n",
    "    # Show the output\n",
    "    cv2.imshow(\"Face Detection\", frame)\n",
    "    \n",
    "    # Press 'q' to exit\n",
    "    if cv2.waitKey(1) & 0xFF == ord('q'):\n",
    "        break\n",
    "\n",
    "# Release resources\n",
    "cap.release()\n",
    "cv2.destroyAllWindows()\n"
   ]
  },
  {
   "cell_type": "code",
   "execution_count": null,
   "id": "ca2b8ba0",
   "metadata": {},
   "outputs": [],
   "source": []
  }
 ],
 "metadata": {
  "kernelspec": {
   "display_name": "Python 3 (ipykernel)",
   "language": "python",
   "name": "python3"
  },
  "language_info": {
   "codemirror_mode": {
    "name": "ipython",
    "version": 3
   },
   "file_extension": ".py",
   "mimetype": "text/x-python",
   "name": "python",
   "nbconvert_exporter": "python",
   "pygments_lexer": "ipython3",
   "version": "3.11.5"
  }
 },
 "nbformat": 4,
 "nbformat_minor": 5
}
